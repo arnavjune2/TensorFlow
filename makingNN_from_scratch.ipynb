{
  "nbformat": 4,
  "nbformat_minor": 0,
  "metadata": {
    "colab": {
      "name": "makingNN_from_scratch.ipynb",
      "provenance": [],
      "authorship_tag": "ABX9TyM1bL/hOhv1LVddxZyQ4DUy",
      "include_colab_link": true
    },
    "kernelspec": {
      "name": "python3",
      "display_name": "Python 3"
    },
    "accelerator": "GPU"
  },
  "cells": [
    {
      "cell_type": "markdown",
      "metadata": {
        "id": "view-in-github",
        "colab_type": "text"
      },
      "source": [
        "<a href=\"https://colab.research.google.com/github/arnavjune2/TensorFlow/blob/main/makingNN_from_scratch.ipynb\" target=\"_parent\"><img src=\"https://colab.research.google.com/assets/colab-badge.svg\" alt=\"Open In Colab\"/></a>"
      ]
    },
    {
      "cell_type": "code",
      "source": [
        "!pip install spicy"
      ],
      "metadata": {
        "colab": {
          "base_uri": "https://localhost:8080/"
        },
        "id": "QGHa_RrD2q3h",
        "outputId": "98f72221-6c12-4c11-cdb7-96b343d3aa61"
      },
      "execution_count": 1,
      "outputs": [
        {
          "output_type": "stream",
          "name": "stdout",
          "text": [
            "Collecting spicy\n",
            "  Downloading spicy-0.16.0-py2.py3-none-any.whl (1.7 kB)\n",
            "Requirement already satisfied: scipy in /usr/local/lib/python3.7/dist-packages (from spicy) (1.4.1)\n",
            "Requirement already satisfied: numpy>=1.13.3 in /usr/local/lib/python3.7/dist-packages (from scipy->spicy) (1.19.5)\n",
            "Installing collected packages: spicy\n",
            "Successfully installed spicy-0.16.0\n"
          ]
        }
      ]
    },
    {
      "cell_type": "code",
      "metadata": {
        "id": "zSQ2I8_8xo0-"
      },
      "source": [
        "import pandas as pd\n",
        "import numpy as np\n",
        "import matplotlib.pyplot as plt\n",
        "import h5py\n",
        "import spicy\n",
        "from PIL import Image\n",
        "\n",
        "%matplotlib inline"
      ],
      "execution_count": 2,
      "outputs": []
    },
    {
      "cell_type": "code",
      "source": [
        "def load_dataset():\n",
        "    train_dataset = h5py.File('train_catvnoncat.h5', \"r\")\n",
        "    train_set_x_orig = np.array(train_dataset[\"train_set_x\"][:]) # your train set features\n",
        "    train_set_y_orig = np.array(train_dataset[\"train_set_y\"][:]) # your train set labels\n",
        "\n",
        "    test_dataset = h5py.File('test_catvnoncat.h5', \"r\")\n",
        "    test_set_x_orig = np.array(test_dataset[\"test_set_x\"][:]) # your test set features\n",
        "    test_set_y_orig = np.array(test_dataset[\"test_set_y\"][:]) # your test set labels\n",
        "\n",
        "    classes = np.array(test_dataset[\"list_classes\"][:]) # the list of classes\n",
        "    \n",
        "    train_set_y_orig = train_set_y_orig.reshape((1, train_set_y_orig.shape[0]))\n",
        "    test_set_y_orig = test_set_y_orig.reshape((1, test_set_y_orig.shape[0]))\n",
        "    \n",
        "    return train_set_x_orig, train_set_y_orig, test_set_x_orig, test_set_y_orig, classes"
      ],
      "metadata": {
        "id": "svu7vgWPhJd2"
      },
      "execution_count": 5,
      "outputs": []
    },
    {
      "cell_type": "markdown",
      "source": [
        "loading the dataset"
      ],
      "metadata": {
        "id": "3z2WiNgOi2A4"
      }
    },
    {
      "cell_type": "code",
      "source": [
        "train_set_x_orig, train_set_y, test_set_x_orig, test_set_y, classes = load_dataset()"
      ],
      "metadata": {
        "id": "CaQBD1T7h7H8"
      },
      "execution_count": 6,
      "outputs": []
    },
    {
      "cell_type": "code",
      "source": [
        "plt.imshow(train_set_x_orig[25])\n",
        "print(classes[np.squeeze(train_set_y[:,25])].decode('utf-8'))"
      ],
      "metadata": {
        "colab": {
          "base_uri": "https://localhost:8080/",
          "height": 286
        },
        "id": "J4o9VjAwiyg2",
        "outputId": "d7e2de2a-3903-4022-df0d-c8d7a4def687"
      },
      "execution_count": 7,
      "outputs": [
        {
          "output_type": "stream",
          "name": "stdout",
          "text": [
            "cat\n"
          ]
        },
        {
          "output_type": "display_data",
          "data": {
            "image/png": "[encoded data removed]",
            "text/plain": [
              "<Figure size 432x288 with 1 Axes>"
            ]
          },
          "metadata": {
            "needs_background": "light"
          }
        }
      ]
    },
    {
      "cell_type": "code",
      "source": [
        "m_train = train_set_y.shape[1]\n",
        "m_test = test_set_y.shape[1]\n",
        "num_px = train_set_x_orig.shape[1]\n",
        "\n",
        "print (\"Number of training examples: m_train = \" + str(m_train))\n",
        "print (\"Number of testing examples: m_test = \" + str(m_test))\n",
        "print (\"Height/Width of each image: num_px = \" + str(num_px))\n",
        "print (\"Each image is of size: (\" + str(num_px) + \", \" + str(num_px) + \", 3)\")\n",
        "print (\"train_set_x shape: \" + str(train_set_x_orig.shape))\n",
        "print (\"train_set_y shape: \" + str(train_set_y.shape))\n",
        "print (\"test_set_x shape: \" + str(test_set_x_orig.shape))\n",
        "print (\"test_set_y shape: \" + str(test_set_y.shape))"
      ],
      "metadata": {
        "colab": {
          "base_uri": "https://localhost:8080/"
        },
        "id": "MNRr_GUyjfvf",
        "outputId": "3b8deebb-83ce-4738-a929-99426867ed69"
      },
      "execution_count": 8,
      "outputs": [
        {
          "output_type": "stream",
          "name": "stdout",
          "text": [
            "Number of training examples: m_train = 209\n",
            "Number of testing examples: m_test = 50\n",
            "Height/Width of each image: num_px = 64\n",
            "Each image is of size: (64, 64, 3)\n",
            "train_set_x shape: (209, 64, 64, 3)\n",
            "train_set_y shape: (1, 209)\n",
            "test_set_x shape: (50, 64, 64, 3)\n",
            "test_set_y shape: (1, 50)\n"
          ]
        }
      ]
    },
    {
      "cell_type": "markdown",
      "source": [
        " Reshape the images to a flat vector of shape (height x width x 3, 1)"
      ],
      "metadata": {
        "id": "Ja7h7nfyqPpd"
      }
    },
    {
      "cell_type": "code",
      "source": [
        "train_set_x_flatten = train_set_x_orig.reshape(train_set_x_orig.shape[0], -1).T\n",
        "test_set_x_flatten = test_set_x_orig.reshape(test_set_x_orig.shape[0], -1).T"
      ],
      "metadata": {
        "id": "rQI0okpRkn7r"
      },
      "execution_count": 9,
      "outputs": []
    },
    {
      "cell_type": "code",
      "source": [
        "print (\"train_set_x_flatten shape: \" + str(train_set_x_flatten.shape))\n",
        "print (\"test_set_x_flatten shape: \" + str(test_set_x_flatten.shape))"
      ],
      "metadata": {
        "colab": {
          "base_uri": "https://localhost:8080/"
        },
        "id": "QM7HY9wrqtHV",
        "outputId": "1f4ea4cb-c582-4f9b-af02-f24b2ce68315"
      },
      "execution_count": 10,
      "outputs": [
        {
          "output_type": "stream",
          "name": "stdout",
          "text": [
            "train_set_x_flatten shape: (12288, 209)\n",
            "test_set_x_flatten shape: (12288, 50)\n"
          ]
        }
      ]
    },
    {
      "cell_type": "markdown",
      "source": [
        "we will now standardize "
      ],
      "metadata": {
        "id": "j5CsrvejsnpX"
      }
    },
    {
      "cell_type": "code",
      "source": [
        "train_set_x= train_set_x_flatten/ 225\n",
        "test_set_x= test_set_x_flatten/ 255"
      ],
      "metadata": {
        "id": "rrzJ0UO-rq2P"
      },
      "execution_count": 11,
      "outputs": []
    },
    {
      "cell_type": "markdown",
      "source": [
        "defining the activation function\n"
      ],
      "metadata": {
        "id": "7il1MaIN43lV"
      }
    },
    {
      "cell_type": "code",
      "source": [
        "def sigmoid(z):\n",
        "  return 1/(1+ np.exp(-z))"
      ],
      "metadata": {
        "id": "A5nSZ5LjtA7e"
      },
      "execution_count": 12,
      "outputs": []
    },
    {
      "cell_type": "markdown",
      "source": [
        "creating a function for initializing the weights and bias"
      ],
      "metadata": {
        "id": "aFU_HDGw5dPt"
      }
    },
    {
      "cell_type": "code",
      "source": [
        "def initialize_with_zeros(dim):\n",
        "  w = np.zeros(shape=(dim,1))\n",
        "  b = 0\n",
        "\n",
        "  assert(w.shape == (dim, 1))\n",
        "  assert(isinstance(b, float) or isinstance(b, int))\n",
        "\n",
        "  return w, b"
      ],
      "metadata": {
        "id": "WE2d_EdQ5DLk"
      },
      "execution_count": 13,
      "outputs": []
    },
    {
      "cell_type": "markdown",
      "source": [
        "now defining a function for **forward   propogation** and for backward propogation\n",
        "\n"
      ],
      "metadata": {
        "id": "kFZj4H-p6HCP"
      }
    },
    {
      "cell_type": "code",
      "source": [
        "def propagate(w, b, X, Y):\n",
        "  m = X.shape[1]\n",
        "\n",
        "  #Forward propogation\n",
        "  A = sigmoid(np.dot(w.T, X) + b)\n",
        "  cost = (-1/m) * np.sum(Y * np.log(A) + (1-Y) * (np.log(1-A)))\n",
        "\n",
        "  #Backward propogation\n",
        "  dw = (1/m) * np.dot(X, (A-Y).T)\n",
        "  db = (1/m) * np.sum(A-Y)\n",
        "\n",
        "  assert(dw.shape == w.shape)\n",
        "  assert(db.dtype == float)\n",
        "  cost = np.squeeze(cost)\n",
        "  assert(cost.shape== ())\n",
        "\n",
        "  grads = {'dw': dw, 'db': db}\n",
        "\n",
        "  return grads, cost"
      ],
      "metadata": {
        "id": "27XZBc1j6Fqd"
      },
      "execution_count": 15,
      "outputs": []
    },
    {
      "cell_type": "markdown",
      "source": [
        "Optimization"
      ],
      "metadata": {
        "id": "ZPM2woOxcEBn"
      }
    },
    {
      "cell_type": "code",
      "source": [
        "def optimize(w, b, X, Y, num_iterations, learning_rate, print_cost= False):\n",
        "  costs = []\n",
        "  for i in range(num_iterations):\n",
        "    #cost and gradient calculation\n",
        "    grads, cost = propagate(w, b, X, Y)\n",
        "\n",
        "    #Get derivatives\n",
        "    dw = grads['dw']\n",
        "    db = grads['db']\n",
        "\n",
        "    #update rule\n",
        "    w = w - learning_rate * dw\n",
        "    b = b - learning_rate * db\n",
        "\n",
        "    #record costs\n",
        "    if i % 100 == 0:\n",
        "      costs.append(cost)\n",
        "\n",
        "    #print cost every 100 traing examples\n",
        "    if print_cost and i%100 == 0:\n",
        "      print('cost after iteration %i: %f' %(i, cost))\n",
        "    \n",
        "  params = {'w':w, 'b':b}\n",
        "  grads = {'dw': dw, 'db': db}\n",
        "\n",
        "  return params, grads, costs\n"
      ],
      "metadata": {
        "id": "PVmqhMUbaIUv"
      },
      "execution_count": 25,
      "outputs": []
    },
    {
      "cell_type": "code",
      "source": [
        "def predict(w, b, X):\n",
        "  m = X.shape[1]\n",
        "  Y_prediction = np.zeros((1, m))\n",
        "  w = w.reshape(X.shape[0], 1)\n",
        "\n",
        "  #compute probability vector\n",
        "  A = sigmoid(np.dot(w.T, X)+b)\n",
        "\n",
        "  for i in range(A.shape[1]):\n",
        "    Y_prediction[0,1] = 1 if A[0, i] > 0.5 else 0\n",
        "\n",
        "  assert(Y_prediction.shape == (1,m))\n",
        "  return Y_prediction\n",
        "  "
      ],
      "metadata": {
        "id": "FnFS5NSsd5BZ"
      },
      "execution_count": 26,
      "outputs": []
    },
    {
      "cell_type": "markdown",
      "source": [
        "merging all functions into a model"
      ],
      "metadata": {
        "id": "Fnt8lZMNi2p2"
      }
    },
    {
      "cell_type": "code",
      "source": [
        "def model(X_train, Y_train, X_test, Y_test, num_iterations=2000, learning_rate=0.5, print_cost=False):\n",
        "    #Initialize parameters with 0s\n",
        "    w, b = initialize_with_zeros(X_train.shape[0])\n",
        "    \n",
        "    #Gradient descent\n",
        "    parameters, grads, costs = optimize(w, b, X_train, Y_train, num_iterations, learning_rate, print_cost)\n",
        "    \n",
        "    #Retrive parameters w, b from dictionary\n",
        "    w = parameters['w']\n",
        "    b = parameters['b']\n",
        "    \n",
        "    #Predict test/train set examples\n",
        "    Y_prediction_test = predict(w, b, X_test)\n",
        "    Y_prediction_train = predict(w, b, X_train)\n",
        "    \n",
        "    #Print test/train errors\n",
        "    print(\"train accuracy: {} %\".format(100 - np.mean(np.abs(Y_prediction_train - Y_train)) * 100))\n",
        "    print(\"test accuracy: {} %\".format(100 - np.mean(np.abs(Y_prediction_test - Y_test)) * 100))\n",
        "    \n",
        "    d = {'costs': costs,\n",
        "         'Y_prediction_test': Y_prediction_test,\n",
        "         'Y_prediction_train': Y_prediction_train,\n",
        "         'w': w,\n",
        "         'b': b,\n",
        "         'learning_rate': learning_rate,\n",
        "         'num_iterations': num_iterations}\n",
        "    \n",
        "    return d"
      ],
      "metadata": {
        "id": "k-iBTVUfivkx"
      },
      "execution_count": 27,
      "outputs": []
    },
    {
      "cell_type": "code",
      "source": [
        "d = model(train_set_x, train_set_y, test_set_x, test_set_y, num_iterations = 2000, learning_rate = 0.005, print_cost = True)"
      ],
      "metadata": {
        "colab": {
          "base_uri": "https://localhost:8080/"
        },
        "id": "mrsS4FGpi544",
        "outputId": "ea789791-38d6-497b-bc8f-d74414e87bb3"
      },
      "execution_count": 28,
      "outputs": [
        {
          "output_type": "stream",
          "name": "stdout",
          "text": [
            "cost after iteration 0: 0.693147\n",
            "cost after iteration 100: 0.666606\n",
            "cost after iteration 200: 0.561558\n",
            "cost after iteration 300: 0.462665\n",
            "cost after iteration 400: 0.369722\n",
            "cost after iteration 500: 0.287033\n",
            "cost after iteration 600: 0.238140\n",
            "cost after iteration 700: 0.219626\n",
            "cost after iteration 800: 0.204239\n",
            "cost after iteration 900: 0.190877\n",
            "cost after iteration 1000: 0.179128\n",
            "cost after iteration 1100: 0.168703\n",
            "cost after iteration 1200: 0.159385\n",
            "cost after iteration 1300: 0.151003\n",
            "cost after iteration 1400: 0.143425\n",
            "cost after iteration 1500: 0.136539\n",
            "cost after iteration 1600: 0.130257\n",
            "cost after iteration 1700: 0.124503\n",
            "cost after iteration 1800: 0.119214\n",
            "cost after iteration 1900: 0.114337\n",
            "train accuracy: 65.55023923444976 %\n",
            "test accuracy: 34.0 %\n"
          ]
        }
      ]
    },
    {
      "cell_type": "markdown",
      "source": [
        "ploting learning rate curve"
      ],
      "metadata": {
        "id": "KRo_HI2BjxZM"
      }
    },
    {
      "cell_type": "code",
      "source": [
        "costs = np.squeeze(d['costs'])\n",
        "plt.plot(costs)\n",
        "plt.ylabel('cost')\n",
        "plt.xlabel('iterations (per hundreds)')\n",
        "plt.title(\"Learning rate =\" + str(d[\"learning_rate\"]))\n",
        "plt.show()"
      ],
      "metadata": {
        "colab": {
          "base_uri": "https://localhost:8080/",
          "height": 295
        },
        "id": "0zUJHarJi9X_",
        "outputId": "a77ea01e-80df-4abd-a336-e21800b71701"
      },
      "execution_count": 29,
      "outputs": [
        {
          "output_type": "display_data",
          "data": {
            "image/png": "[encoded data removed]",
            "text/plain": [
              "<Figure size 432x288 with 1 Axes>"
            ]
          },
          "metadata": {
            "needs_background": "light"
          }
        }
      ]
    },
    {
      "cell_type": "code",
      "source": [
        ""
      ],
      "metadata": {
        "id": "B_1g40CIj2Hf"
      },
      "execution_count": null,
      "outputs": []
    }
  ]
}